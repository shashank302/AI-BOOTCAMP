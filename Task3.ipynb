{
  "nbformat": 4,
  "nbformat_minor": 0,
  "metadata": {
    "colab": {
      "provenance": []
    },
    "kernelspec": {
      "name": "python3",
      "display_name": "Python 3"
    },
    "language_info": {
      "name": "python"
    }
  },
  "cells": [
    {
      "cell_type": "code",
      "source": [
        "# Function for addition\n",
        "def add(a, b):\n",
        "    return a + b\n",
        "\n",
        "# Function for subtraction\n",
        "def subtract(a, b):\n",
        "    return a - b\n",
        "\n",
        "# Function for multiplication\n",
        "def multiply(a, b):\n",
        "    return a * b\n",
        "\n",
        "# Function for division\n",
        "def divide(a, b):\n",
        "    if b == 0:\n",
        "        return \"Error! Division by zero.\"\n",
        "    return a / b\n",
        "print(\"Basic Calculator using Functions\")\n",
        "print(\"Choose operation:\")\n",
        "print(\"1. Addition (+)\")\n",
        "print(\"2. Subtraction (-)\")\n",
        "print(\"3. Multiplication (*)\")\n",
        "print(\"4. Division (/)\")\n",
        "choice = input(\"Enter choice (1/2/3/4): \")\n",
        "num1 = float(input(\"Enter first number: \"))\n",
        "num2 = float(input(\"Enter second number: \"))\n",
        "if choice == '1':\n",
        "    print(\"Result: \", add(num1, num2))\n",
        "elif choice == '2':\n",
        "    print(\"Result: \", subtract(num1, num2))\n",
        "elif choice == '3':\n",
        "    print(\"Result: \", multiply(num1, num2))\n",
        "elif choice == '4':\n",
        "    print(\"Result: \", divide(num1, num2))\n",
        "else:\n",
        "    print(\"Invalid input! Please select from 1 to 4.\")\n"
      ],
      "metadata": {
        "colab": {
          "base_uri": "https://localhost:8080/"
        },
        "id": "ypOFds5SbMb8",
        "outputId": "b53b9639-0701-4a23-9e74-2ed4070bac95"
      },
      "execution_count": 2,
      "outputs": [
        {
          "output_type": "stream",
          "name": "stdout",
          "text": [
            "Basic Calculator using Functions\n",
            "Choose operation:\n",
            "1. Addition (+)\n",
            "2. Subtraction (-)\n",
            "3. Multiplication (*)\n",
            "4. Division (/)\n",
            "Enter choice (1/2/3/4): 3\n",
            "Enter first number: 5\n",
            "Enter second number: 5\n",
            "Result:  25.0\n"
          ]
        }
      ]
    }
  ]
}